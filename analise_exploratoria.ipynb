{
 "cells": [
  {
   "cell_type": "markdown",
   "id": "254f0e83",
   "metadata": {},
   "source": [
    "# Importar as bibliotecas necessaŕias"
   ]
  },
  {
   "cell_type": "code",
   "execution_count": 1,
   "id": "4c5d1667",
   "metadata": {},
   "outputs": [],
   "source": [
    "\n",
    "\n",
    "import polars as pl\n",
    "import matplotlib.pyplot as plt\n",
    "import seaborn as sns\n",
    "\n",
    "# Configurações visuais do sns\n",
    "sns.set(style=\"whitegrid\")\n",
    "plt.rcParams[\"figure.figsize\"] = (12, 6)"
   ]
  }
 ],
 "metadata": {
  "kernelspec": {
   "display_name": "venv (3.12.3)",
   "language": "python",
   "name": "python3"
  },
  "language_info": {
   "codemirror_mode": {
    "name": "ipython",
    "version": 3
   },
   "file_extension": ".py",
   "mimetype": "text/x-python",
   "name": "python",
   "nbconvert_exporter": "python",
   "pygments_lexer": "ipython3",
   "version": "3.12.3"
  }
 },
 "nbformat": 4,
 "nbformat_minor": 5
}
